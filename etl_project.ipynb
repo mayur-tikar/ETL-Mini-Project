{
 "cells": [
  {
   "cell_type": "markdown",
   "id": "ac822324-b9d0-4e99-9ca6-d783e6bd8cd7",
   "metadata": {},
   "source": [
    "# Data manipulation and mini-ETL project"
   ]
  },
  {
   "cell_type": "markdown",
   "id": "be45b8e7-67dc-42ed-814c-eb268f25887b",
   "metadata": {},
   "source": [
    "## Data Manipulation with pandas"
   ]
  },
  {
   "cell_type": "code",
   "execution_count": 1,
   "id": "da4b59fc-1844-462e-9ea4-b3423605a3c6",
   "metadata": {},
   "outputs": [],
   "source": [
    "import numpy as np"
   ]
  },
  {
   "cell_type": "code",
   "execution_count": 2,
   "id": "bfad3d42-eb21-4580-9c8b-4bf413b134c4",
   "metadata": {},
   "outputs": [],
   "source": [
    "import pandas as pd"
   ]
  },
  {
   "cell_type": "code",
   "execution_count": 3,
   "id": "6b6d7915-60ac-429c-8302-3c60e5762250",
   "metadata": {},
   "outputs": [],
   "source": [
    "data = {\n",
    "    'Name': ['John', 'Alex', 'Sara', 'Emily', 'Saint'],\n",
    "    'Age': [25, 30, 22, 28, 35],\n",
    "    'Salary': [50000, 60000, 45000, 55000, 70000],\n",
    "    'Department': ['Data Eng', 'Analytics', 'IT', 'HR', 'Finance']\n",
    "}\n",
    "df = pd.DataFrame(data)"
   ]
  },
  {
   "cell_type": "code",
   "execution_count": 4,
   "id": "ad689460-49a5-49c1-8607-772db304260e",
   "metadata": {},
   "outputs": [
    {
     "name": "stdout",
     "output_type": "stream",
     "text": [
      "<class 'pandas.core.frame.DataFrame'>\n",
      "RangeIndex: 5 entries, 0 to 4\n",
      "Data columns (total 4 columns):\n",
      " #   Column      Non-Null Count  Dtype \n",
      "---  ------      --------------  ----- \n",
      " 0   Name        5 non-null      object\n",
      " 1   Age         5 non-null      int64 \n",
      " 2   Salary      5 non-null      int64 \n",
      " 3   Department  5 non-null      object\n",
      "dtypes: int64(2), object(2)\n",
      "memory usage: 292.0+ bytes\n"
     ]
    }
   ],
   "source": [
    "# Display basic info\n",
    "df.info()"
   ]
  },
  {
   "cell_type": "code",
   "execution_count": 5,
   "id": "bc6418e6-5f85-4c27-9edd-19bb067d0fc5",
   "metadata": {},
   "outputs": [
    {
     "data": {
      "text/html": [
       "<div>\n",
       "<style scoped>\n",
       "    .dataframe tbody tr th:only-of-type {\n",
       "        vertical-align: middle;\n",
       "    }\n",
       "\n",
       "    .dataframe tbody tr th {\n",
       "        vertical-align: top;\n",
       "    }\n",
       "\n",
       "    .dataframe thead th {\n",
       "        text-align: right;\n",
       "    }\n",
       "</style>\n",
       "<table border=\"1\" class=\"dataframe\">\n",
       "  <thead>\n",
       "    <tr style=\"text-align: right;\">\n",
       "      <th></th>\n",
       "      <th>Name</th>\n",
       "      <th>Age</th>\n",
       "      <th>Salary</th>\n",
       "      <th>Department</th>\n",
       "    </tr>\n",
       "  </thead>\n",
       "  <tbody>\n",
       "    <tr>\n",
       "      <th>0</th>\n",
       "      <td>John</td>\n",
       "      <td>25</td>\n",
       "      <td>50000</td>\n",
       "      <td>Data Eng</td>\n",
       "    </tr>\n",
       "    <tr>\n",
       "      <th>1</th>\n",
       "      <td>Alex</td>\n",
       "      <td>30</td>\n",
       "      <td>60000</td>\n",
       "      <td>Analytics</td>\n",
       "    </tr>\n",
       "    <tr>\n",
       "      <th>2</th>\n",
       "      <td>Sara</td>\n",
       "      <td>22</td>\n",
       "      <td>45000</td>\n",
       "      <td>IT</td>\n",
       "    </tr>\n",
       "    <tr>\n",
       "      <th>3</th>\n",
       "      <td>Emily</td>\n",
       "      <td>28</td>\n",
       "      <td>55000</td>\n",
       "      <td>HR</td>\n",
       "    </tr>\n",
       "    <tr>\n",
       "      <th>4</th>\n",
       "      <td>Saint</td>\n",
       "      <td>35</td>\n",
       "      <td>70000</td>\n",
       "      <td>Finance</td>\n",
       "    </tr>\n",
       "  </tbody>\n",
       "</table>\n",
       "</div>"
      ],
      "text/plain": [
       "    Name  Age  Salary Department\n",
       "0   John   25   50000   Data Eng\n",
       "1   Alex   30   60000  Analytics\n",
       "2   Sara   22   45000         IT\n",
       "3  Emily   28   55000         HR\n",
       "4  Saint   35   70000    Finance"
      ]
     },
     "execution_count": 5,
     "metadata": {},
     "output_type": "execute_result"
    }
   ],
   "source": [
    "# Handling Missing values\n",
    "df.fillna('Unknown', inplace=True)\n",
    "df.head()"
   ]
  },
  {
   "cell_type": "code",
   "execution_count": 6,
   "id": "e9daa6db-7f0f-4b97-b5bc-05f55afa7d1e",
   "metadata": {},
   "outputs": [
    {
     "name": "stdout",
     "output_type": "stream",
     "text": [
      "Employee with high salary: \n",
      "     Name  Age  Salary Department\n",
      "4  Saint   35   70000    Finance\n",
      "1   Alex   30   60000  Analytics\n",
      "3  Emily   28   55000         HR\n"
     ]
    }
   ],
   "source": [
    "# Sorting and Filtering\n",
    "high_salary = df[df['Salary'] > 50000].sort_values(by='Salary', ascending=False)\n",
    "print('Employee with high salary: \\n',high_salary)"
   ]
  },
  {
   "cell_type": "code",
   "execution_count": 7,
   "id": "8b1a5092-6d7d-4b3f-82cc-f25d2085ec47",
   "metadata": {},
   "outputs": [
    {
     "name": "stdout",
     "output_type": "stream",
     "text": [
      "Average salary per department:\n",
      " Department\n",
      "Analytics    60000.0\n",
      "Data Eng     50000.0\n",
      "Finance      70000.0\n",
      "HR           55000.0\n",
      "IT           45000.0\n",
      "Name: Salary, dtype: float64\n"
     ]
    }
   ],
   "source": [
    "# Grouping and Aggregation\n",
    "avg_salary_per_dept = df.groupby(\"Department\")['Salary'].mean()\n",
    "print('Average salary per department:\\n', avg_salary_per_dept) "
   ]
  },
  {
   "cell_type": "code",
   "execution_count": 8,
   "id": "1a647926-3ac5-4ea5-ade2-7501fd9ffbc3",
   "metadata": {},
   "outputs": [
    {
     "name": "stdout",
     "output_type": "stream",
     "text": [
      "Updated DataFrane with Bonus: \n",
      "     Name  Age  Salary Department   Bonus\n",
      "0   John   25   50000   Data Eng  5000.0\n",
      "1   Alex   30   60000  Analytics  6000.0\n",
      "2   Sara   22   45000         IT  4500.0\n",
      "3  Emily   28   55000         HR  5500.0\n",
      "4  Saint   35   70000    Finance  7000.0\n"
     ]
    }
   ],
   "source": [
    "# Adding a new column\n",
    "df['Bonus'] = df['Salary'] * 0.10 # 10% Bonus Calculation\n",
    "print('Updated DataFrane with Bonus: \\n', df)"
   ]
  },
  {
   "cell_type": "markdown",
   "id": "4d5ff63f-d701-44c9-8771-b67050681407",
   "metadata": {},
   "source": [
    "#### Add a new column for “Experience” with random values."
   ]
  },
  {
   "cell_type": "code",
   "execution_count": 9,
   "id": "9c0aa234-6b26-459d-8b14-fcbb2bb31380",
   "metadata": {},
   "outputs": [
    {
     "data": {
      "text/html": [
       "<div>\n",
       "<style scoped>\n",
       "    .dataframe tbody tr th:only-of-type {\n",
       "        vertical-align: middle;\n",
       "    }\n",
       "\n",
       "    .dataframe tbody tr th {\n",
       "        vertical-align: top;\n",
       "    }\n",
       "\n",
       "    .dataframe thead th {\n",
       "        text-align: right;\n",
       "    }\n",
       "</style>\n",
       "<table border=\"1\" class=\"dataframe\">\n",
       "  <thead>\n",
       "    <tr style=\"text-align: right;\">\n",
       "      <th></th>\n",
       "      <th>Name</th>\n",
       "      <th>Age</th>\n",
       "      <th>Salary</th>\n",
       "      <th>Department</th>\n",
       "      <th>Bonus</th>\n",
       "      <th>Experience</th>\n",
       "    </tr>\n",
       "  </thead>\n",
       "  <tbody>\n",
       "    <tr>\n",
       "      <th>0</th>\n",
       "      <td>John</td>\n",
       "      <td>25</td>\n",
       "      <td>50000</td>\n",
       "      <td>Data Eng</td>\n",
       "      <td>5000.0</td>\n",
       "      <td>2</td>\n",
       "    </tr>\n",
       "    <tr>\n",
       "      <th>1</th>\n",
       "      <td>Alex</td>\n",
       "      <td>30</td>\n",
       "      <td>60000</td>\n",
       "      <td>Analytics</td>\n",
       "      <td>6000.0</td>\n",
       "      <td>2</td>\n",
       "    </tr>\n",
       "    <tr>\n",
       "      <th>2</th>\n",
       "      <td>Sara</td>\n",
       "      <td>22</td>\n",
       "      <td>45000</td>\n",
       "      <td>IT</td>\n",
       "      <td>4500.0</td>\n",
       "      <td>1</td>\n",
       "    </tr>\n",
       "    <tr>\n",
       "      <th>3</th>\n",
       "      <td>Emily</td>\n",
       "      <td>28</td>\n",
       "      <td>55000</td>\n",
       "      <td>HR</td>\n",
       "      <td>5500.0</td>\n",
       "      <td>3</td>\n",
       "    </tr>\n",
       "    <tr>\n",
       "      <th>4</th>\n",
       "      <td>Saint</td>\n",
       "      <td>35</td>\n",
       "      <td>70000</td>\n",
       "      <td>Finance</td>\n",
       "      <td>7000.0</td>\n",
       "      <td>4</td>\n",
       "    </tr>\n",
       "  </tbody>\n",
       "</table>\n",
       "</div>"
      ],
      "text/plain": [
       "    Name  Age  Salary Department   Bonus  Experience\n",
       "0   John   25   50000   Data Eng  5000.0           2\n",
       "1   Alex   30   60000  Analytics  6000.0           2\n",
       "2   Sara   22   45000         IT  4500.0           1\n",
       "3  Emily   28   55000         HR  5500.0           3\n",
       "4  Saint   35   70000    Finance  7000.0           4"
      ]
     },
     "execution_count": 9,
     "metadata": {},
     "output_type": "execute_result"
    }
   ],
   "source": [
    "df['Experience'] = [2, 2, 1, 3, 4]\n",
    "df.head()"
   ]
  },
  {
   "cell_type": "markdown",
   "id": "b3723ad9-90a6-4909-941a-4aac946e5c7b",
   "metadata": {},
   "source": [
    "#### Find the employee with the highest salary."
   ]
  },
  {
   "cell_type": "code",
   "execution_count": 10,
   "id": "2e2e63b0-c403-4d74-a24b-379c636249ef",
   "metadata": {},
   "outputs": [
    {
     "name": "stdout",
     "output_type": "stream",
     "text": [
      "Highest Employee salary:\n",
      "     Name  Age  Salary Department\n",
      "4  Saint   35   70000    Finance\n",
      "1   Alex   30   60000  Analytics\n",
      "3  Emily   28   55000         HR\n"
     ]
    }
   ],
   "source": [
    "highest_salary = df['Salary'].max()\n",
    "print('Highest Employee salary:\\n',high_salary)"
   ]
  },
  {
   "cell_type": "code",
   "execution_count": 11,
   "id": "e4df6ecd-6515-48e2-9fdc-d13684e78238",
   "metadata": {},
   "outputs": [
    {
     "data": {
      "text/html": [
       "<div>\n",
       "<style scoped>\n",
       "    .dataframe tbody tr th:only-of-type {\n",
       "        vertical-align: middle;\n",
       "    }\n",
       "\n",
       "    .dataframe tbody tr th {\n",
       "        vertical-align: top;\n",
       "    }\n",
       "\n",
       "    .dataframe thead th {\n",
       "        text-align: right;\n",
       "    }\n",
       "</style>\n",
       "<table border=\"1\" class=\"dataframe\">\n",
       "  <thead>\n",
       "    <tr style=\"text-align: right;\">\n",
       "      <th></th>\n",
       "      <th>Name</th>\n",
       "      <th>Age</th>\n",
       "      <th>Salary</th>\n",
       "      <th>Department</th>\n",
       "    </tr>\n",
       "  </thead>\n",
       "  <tbody>\n",
       "    <tr>\n",
       "      <th>4</th>\n",
       "      <td>Saint</td>\n",
       "      <td>35</td>\n",
       "      <td>70000</td>\n",
       "      <td>Finance</td>\n",
       "    </tr>\n",
       "    <tr>\n",
       "      <th>1</th>\n",
       "      <td>Alex</td>\n",
       "      <td>30</td>\n",
       "      <td>60000</td>\n",
       "      <td>Analytics</td>\n",
       "    </tr>\n",
       "    <tr>\n",
       "      <th>3</th>\n",
       "      <td>Emily</td>\n",
       "      <td>28</td>\n",
       "      <td>55000</td>\n",
       "      <td>HR</td>\n",
       "    </tr>\n",
       "  </tbody>\n",
       "</table>\n",
       "</div>"
      ],
      "text/plain": [
       "    Name  Age  Salary Department\n",
       "4  Saint   35   70000    Finance\n",
       "1   Alex   30   60000  Analytics\n",
       "3  Emily   28   55000         HR"
      ]
     },
     "execution_count": 11,
     "metadata": {},
     "output_type": "execute_result"
    }
   ],
   "source": [
    "highest_sal_emp = df[df['Salary'] == df['Salary'].max()]\n",
    "high_salary"
   ]
  },
  {
   "cell_type": "code",
   "execution_count": null,
   "id": "3f9a0f5c-cc73-4ddd-b2a8-e755e0f1590b",
   "metadata": {},
   "outputs": [],
   "source": []
  },
  {
   "cell_type": "code",
   "execution_count": null,
   "id": "b77082bb-d803-45bd-bf6d-ae8d79a1b49e",
   "metadata": {},
   "outputs": [],
   "source": []
  },
  {
   "cell_type": "markdown",
   "id": "94074e09-bb78-4f03-afad-6349fd6f43f2",
   "metadata": {},
   "source": [
    "#### Filter employees who are under 30 and earn above 50,000."
   ]
  },
  {
   "cell_type": "code",
   "execution_count": 12,
   "id": "eb8633d7-bc7e-498b-b5d2-893c3a66d146",
   "metadata": {},
   "outputs": [
    {
     "data": {
      "text/html": [
       "<div>\n",
       "<style scoped>\n",
       "    .dataframe tbody tr th:only-of-type {\n",
       "        vertical-align: middle;\n",
       "    }\n",
       "\n",
       "    .dataframe tbody tr th {\n",
       "        vertical-align: top;\n",
       "    }\n",
       "\n",
       "    .dataframe thead th {\n",
       "        text-align: right;\n",
       "    }\n",
       "</style>\n",
       "<table border=\"1\" class=\"dataframe\">\n",
       "  <thead>\n",
       "    <tr style=\"text-align: right;\">\n",
       "      <th></th>\n",
       "      <th>Name</th>\n",
       "      <th>Age</th>\n",
       "      <th>Salary</th>\n",
       "      <th>Department</th>\n",
       "      <th>Bonus</th>\n",
       "      <th>Experience</th>\n",
       "    </tr>\n",
       "  </thead>\n",
       "  <tbody>\n",
       "    <tr>\n",
       "      <th>3</th>\n",
       "      <td>Emily</td>\n",
       "      <td>28</td>\n",
       "      <td>55000</td>\n",
       "      <td>HR</td>\n",
       "      <td>5500.0</td>\n",
       "      <td>3</td>\n",
       "    </tr>\n",
       "  </tbody>\n",
       "</table>\n",
       "</div>"
      ],
      "text/plain": [
       "    Name  Age  Salary Department   Bonus  Experience\n",
       "3  Emily   28   55000         HR  5500.0           3"
      ]
     },
     "execution_count": 12,
     "metadata": {},
     "output_type": "execute_result"
    }
   ],
   "source": [
    "young_skilled_employee = df.loc[(df['Age'] < 30) & (df['Salary'] >50000)]\n",
    "young_skilled_employee"
   ]
  },
  {
   "cell_type": "code",
   "execution_count": 13,
   "id": "bd5fd359-5794-44fe-a1dc-ef3089f728b5",
   "metadata": {},
   "outputs": [
    {
     "data": {
      "text/html": [
       "<div>\n",
       "<style scoped>\n",
       "    .dataframe tbody tr th:only-of-type {\n",
       "        vertical-align: middle;\n",
       "    }\n",
       "\n",
       "    .dataframe tbody tr th {\n",
       "        vertical-align: top;\n",
       "    }\n",
       "\n",
       "    .dataframe thead th {\n",
       "        text-align: right;\n",
       "    }\n",
       "</style>\n",
       "<table border=\"1\" class=\"dataframe\">\n",
       "  <thead>\n",
       "    <tr style=\"text-align: right;\">\n",
       "      <th></th>\n",
       "      <th>Name</th>\n",
       "      <th>Age</th>\n",
       "      <th>Salary</th>\n",
       "      <th>Department</th>\n",
       "      <th>Bonus</th>\n",
       "      <th>Experience</th>\n",
       "    </tr>\n",
       "  </thead>\n",
       "  <tbody>\n",
       "    <tr>\n",
       "      <th>3</th>\n",
       "      <td>Emily</td>\n",
       "      <td>28</td>\n",
       "      <td>55000</td>\n",
       "      <td>HR</td>\n",
       "      <td>5500.0</td>\n",
       "      <td>3</td>\n",
       "    </tr>\n",
       "  </tbody>\n",
       "</table>\n",
       "</div>"
      ],
      "text/plain": [
       "    Name  Age  Salary Department   Bonus  Experience\n",
       "3  Emily   28   55000         HR  5500.0           3"
      ]
     },
     "execution_count": 13,
     "metadata": {},
     "output_type": "execute_result"
    }
   ],
   "source": [
    "young_high_earners = df[(df['Age'] < 30) & (df['Salary'] > 50000)]\n",
    "young_high_earners"
   ]
  },
  {
   "cell_type": "code",
   "execution_count": 14,
   "id": "5bc021af-3efd-4a16-afc9-0be71b7bfe23",
   "metadata": {},
   "outputs": [
    {
     "name": "stdout",
     "output_type": "stream",
     "text": [
      "Data manipulation complete! Processed file saved\n"
     ]
    }
   ],
   "source": [
    "df.to_csv('employee_data.csv')\n",
    "print('Data manipulation complete! Processed file saved')"
   ]
  },
  {
   "cell_type": "code",
   "execution_count": null,
   "id": "ab4f8773-3b8c-4e09-9f6e-74b800ac5336",
   "metadata": {},
   "outputs": [],
   "source": []
  },
  {
   "cell_type": "markdown",
   "id": "973a62de-fc23-4b99-a5f6-c5b4767c8721",
   "metadata": {},
   "source": [
    "## Mini ETL Project (Extract, Transform, Load)"
   ]
  },
  {
   "cell_type": "markdown",
   "id": "6c954e0b-0985-472e-86e2-fddd11df0c98",
   "metadata": {},
   "source": [
    "#### Extract - Read CSV"
   ]
  },
  {
   "cell_type": "code",
   "execution_count": 15,
   "id": "50d0bba7-018b-4f27-8622-3c34ef33328d",
   "metadata": {
    "scrolled": true
   },
   "outputs": [
    {
     "name": "stdout",
     "output_type": "stream",
     "text": [
      "Original Data: \n",
      "    Unnamed: 0   Name  Age  Salary Department   Bonus  Experience\n",
      "0           0   John   25   50000   Data Eng  5000.0           2\n",
      "1           1   Alex   30   60000  Analytics  6000.0           2\n",
      "2           2   Sara   22   45000         IT  4500.0           1\n",
      "3           3  Emily   28   55000         HR  5500.0           3\n",
      "4           4  Saint   35   70000    Finance  7000.0           4\n"
     ]
    }
   ],
   "source": [
    "df = pd.read_csv('employee_data.csv')\n",
    "print('Original Data: \\n', df.head())"
   ]
  },
  {
   "cell_type": "markdown",
   "id": "915b9f1e-2ca8-4411-a46b-5ee07d65385a",
   "metadata": {},
   "source": [
    "#### Transform - Clean & Process"
   ]
  },
  {
   "cell_type": "code",
   "execution_count": 16,
   "id": "4db334a1-91e3-4daa-83d3-ff3d547444ed",
   "metadata": {},
   "outputs": [],
   "source": [
    "# 5% Salary Increment\n",
    "df['Salary'] = df['Salary'] * 1.05"
   ]
  },
  {
   "cell_type": "code",
   "execution_count": 17,
   "id": "af9adfe9-faa0-4e17-bd90-d86024733c3f",
   "metadata": {},
   "outputs": [],
   "source": [
    "df['Experience'] = df['Age'].apply(lambda x: 'Senior' if x >= 30 else 'Junior')"
   ]
  },
  {
   "cell_type": "code",
   "execution_count": 18,
   "id": "44f879a3-b0c7-4410-85ed-fd7403f0315f",
   "metadata": {},
   "outputs": [
    {
     "data": {
      "text/html": [
       "<div>\n",
       "<style scoped>\n",
       "    .dataframe tbody tr th:only-of-type {\n",
       "        vertical-align: middle;\n",
       "    }\n",
       "\n",
       "    .dataframe tbody tr th {\n",
       "        vertical-align: top;\n",
       "    }\n",
       "\n",
       "    .dataframe thead th {\n",
       "        text-align: right;\n",
       "    }\n",
       "</style>\n",
       "<table border=\"1\" class=\"dataframe\">\n",
       "  <thead>\n",
       "    <tr style=\"text-align: right;\">\n",
       "      <th></th>\n",
       "      <th>Unnamed: 0</th>\n",
       "      <th>Name</th>\n",
       "      <th>Age</th>\n",
       "      <th>Salary</th>\n",
       "      <th>Department</th>\n",
       "      <th>Bonus</th>\n",
       "      <th>Experience</th>\n",
       "    </tr>\n",
       "  </thead>\n",
       "  <tbody>\n",
       "    <tr>\n",
       "      <th>0</th>\n",
       "      <td>0</td>\n",
       "      <td>John</td>\n",
       "      <td>25</td>\n",
       "      <td>52500.0</td>\n",
       "      <td>Data Eng</td>\n",
       "      <td>5000.0</td>\n",
       "      <td>Junior</td>\n",
       "    </tr>\n",
       "    <tr>\n",
       "      <th>1</th>\n",
       "      <td>1</td>\n",
       "      <td>Alex</td>\n",
       "      <td>30</td>\n",
       "      <td>63000.0</td>\n",
       "      <td>Analytics</td>\n",
       "      <td>6000.0</td>\n",
       "      <td>Senior</td>\n",
       "    </tr>\n",
       "    <tr>\n",
       "      <th>2</th>\n",
       "      <td>2</td>\n",
       "      <td>Sara</td>\n",
       "      <td>22</td>\n",
       "      <td>47250.0</td>\n",
       "      <td>IT</td>\n",
       "      <td>4500.0</td>\n",
       "      <td>Junior</td>\n",
       "    </tr>\n",
       "    <tr>\n",
       "      <th>3</th>\n",
       "      <td>3</td>\n",
       "      <td>Emily</td>\n",
       "      <td>28</td>\n",
       "      <td>57750.0</td>\n",
       "      <td>HR</td>\n",
       "      <td>5500.0</td>\n",
       "      <td>Junior</td>\n",
       "    </tr>\n",
       "    <tr>\n",
       "      <th>4</th>\n",
       "      <td>4</td>\n",
       "      <td>Saint</td>\n",
       "      <td>35</td>\n",
       "      <td>73500.0</td>\n",
       "      <td>Finance</td>\n",
       "      <td>7000.0</td>\n",
       "      <td>Senior</td>\n",
       "    </tr>\n",
       "  </tbody>\n",
       "</table>\n",
       "</div>"
      ],
      "text/plain": [
       "   Unnamed: 0   Name  Age   Salary Department   Bonus Experience\n",
       "0           0   John   25  52500.0   Data Eng  5000.0     Junior\n",
       "1           1   Alex   30  63000.0  Analytics  6000.0     Senior\n",
       "2           2   Sara   22  47250.0         IT  4500.0     Junior\n",
       "3           3  Emily   28  57750.0         HR  5500.0     Junior\n",
       "4           4  Saint   35  73500.0    Finance  7000.0     Senior"
      ]
     },
     "execution_count": 18,
     "metadata": {},
     "output_type": "execute_result"
    }
   ],
   "source": [
    "df"
   ]
  },
  {
   "cell_type": "code",
   "execution_count": 19,
   "id": "066be644-331c-44e8-884a-b4660ca1dea9",
   "metadata": {},
   "outputs": [],
   "source": [
    "df.to_csv('processed_employee_data.csv', index=False)"
   ]
  },
  {
   "cell_type": "code",
   "execution_count": 20,
   "id": "4af5bee2-c42e-4e4b-b5ee-3d0576798e84",
   "metadata": {},
   "outputs": [
    {
     "name": "stdout",
     "output_type": "stream",
     "text": [
      "ETL process Completed! Processed file save.\n"
     ]
    }
   ],
   "source": [
    "print('ETL process Completed! Processed file save.')"
   ]
  },
  {
   "cell_type": "markdown",
   "id": "06a7e974-3bde-4ccd-a87d-c6332144a71d",
   "metadata": {},
   "source": [
    "#### Modify the transformation step to classify employees as Beginner (0-2 years), Intermediate (3-5 years), Expert (5+ years) based on experience."
   ]
  },
  {
   "cell_type": "code",
   "execution_count": 21,
   "id": "879d3e73-5a5d-4ad9-bc06-54b385875ac1",
   "metadata": {},
   "outputs": [],
   "source": [
    "np.random.seed(42)"
   ]
  },
  {
   "cell_type": "code",
   "execution_count": 22,
   "id": "bbf7764a-083e-4d60-b886-ea54d0690baf",
   "metadata": {},
   "outputs": [
    {
     "data": {
      "text/html": [
       "<div>\n",
       "<style scoped>\n",
       "    .dataframe tbody tr th:only-of-type {\n",
       "        vertical-align: middle;\n",
       "    }\n",
       "\n",
       "    .dataframe tbody tr th {\n",
       "        vertical-align: top;\n",
       "    }\n",
       "\n",
       "    .dataframe thead th {\n",
       "        text-align: right;\n",
       "    }\n",
       "</style>\n",
       "<table border=\"1\" class=\"dataframe\">\n",
       "  <thead>\n",
       "    <tr style=\"text-align: right;\">\n",
       "      <th></th>\n",
       "      <th>Unnamed: 0</th>\n",
       "      <th>Name</th>\n",
       "      <th>Age</th>\n",
       "      <th>Salary</th>\n",
       "      <th>Department</th>\n",
       "      <th>Bonus</th>\n",
       "      <th>Experience</th>\n",
       "    </tr>\n",
       "  </thead>\n",
       "  <tbody>\n",
       "    <tr>\n",
       "      <th>0</th>\n",
       "      <td>0</td>\n",
       "      <td>John</td>\n",
       "      <td>25</td>\n",
       "      <td>52500.0</td>\n",
       "      <td>Data Eng</td>\n",
       "      <td>5000.0</td>\n",
       "      <td>6</td>\n",
       "    </tr>\n",
       "    <tr>\n",
       "      <th>1</th>\n",
       "      <td>1</td>\n",
       "      <td>Alex</td>\n",
       "      <td>30</td>\n",
       "      <td>63000.0</td>\n",
       "      <td>Analytics</td>\n",
       "      <td>6000.0</td>\n",
       "      <td>3</td>\n",
       "    </tr>\n",
       "    <tr>\n",
       "      <th>2</th>\n",
       "      <td>2</td>\n",
       "      <td>Sara</td>\n",
       "      <td>22</td>\n",
       "      <td>47250.0</td>\n",
       "      <td>IT</td>\n",
       "      <td>4500.0</td>\n",
       "      <td>7</td>\n",
       "    </tr>\n",
       "    <tr>\n",
       "      <th>3</th>\n",
       "      <td>3</td>\n",
       "      <td>Emily</td>\n",
       "      <td>28</td>\n",
       "      <td>57750.0</td>\n",
       "      <td>HR</td>\n",
       "      <td>5500.0</td>\n",
       "      <td>4</td>\n",
       "    </tr>\n",
       "    <tr>\n",
       "      <th>4</th>\n",
       "      <td>4</td>\n",
       "      <td>Saint</td>\n",
       "      <td>35</td>\n",
       "      <td>73500.0</td>\n",
       "      <td>Finance</td>\n",
       "      <td>7000.0</td>\n",
       "      <td>6</td>\n",
       "    </tr>\n",
       "  </tbody>\n",
       "</table>\n",
       "</div>"
      ],
      "text/plain": [
       "   Unnamed: 0   Name  Age   Salary Department   Bonus  Experience\n",
       "0           0   John   25  52500.0   Data Eng  5000.0           6\n",
       "1           1   Alex   30  63000.0  Analytics  6000.0           3\n",
       "2           2   Sara   22  47250.0         IT  4500.0           7\n",
       "3           3  Emily   28  57750.0         HR  5500.0           4\n",
       "4           4  Saint   35  73500.0    Finance  7000.0           6"
      ]
     },
     "execution_count": 22,
     "metadata": {},
     "output_type": "execute_result"
    }
   ],
   "source": [
    "df['Experience'] = np.random.randint(0, 10, df.shape[0])\n",
    "df"
   ]
  },
  {
   "cell_type": "code",
   "execution_count": 23,
   "id": "7e2e8234-eada-4767-a758-a126366f8999",
   "metadata": {},
   "outputs": [],
   "source": [
    "def classify_exp(exp):\n",
    "    if exp <=2:\n",
    "        return 'Beginner'\n",
    "    elif 3 <= exp <= 5:\n",
    "        return 'Intermediate'\n",
    "    else:\n",
    "        return 'Expert'\n",
    "\n",
    "df['Experience_level'] = df['Experience'].apply(classify_exp)"
   ]
  },
  {
   "cell_type": "code",
   "execution_count": 24,
   "id": "bf28f231-8811-4ac7-a848-eca2ad69d53c",
   "metadata": {},
   "outputs": [
    {
     "data": {
      "text/html": [
       "<div>\n",
       "<style scoped>\n",
       "    .dataframe tbody tr th:only-of-type {\n",
       "        vertical-align: middle;\n",
       "    }\n",
       "\n",
       "    .dataframe tbody tr th {\n",
       "        vertical-align: top;\n",
       "    }\n",
       "\n",
       "    .dataframe thead th {\n",
       "        text-align: right;\n",
       "    }\n",
       "</style>\n",
       "<table border=\"1\" class=\"dataframe\">\n",
       "  <thead>\n",
       "    <tr style=\"text-align: right;\">\n",
       "      <th></th>\n",
       "      <th>Unnamed: 0</th>\n",
       "      <th>Name</th>\n",
       "      <th>Age</th>\n",
       "      <th>Salary</th>\n",
       "      <th>Department</th>\n",
       "      <th>Bonus</th>\n",
       "      <th>Experience</th>\n",
       "      <th>Experience_level</th>\n",
       "    </tr>\n",
       "  </thead>\n",
       "  <tbody>\n",
       "    <tr>\n",
       "      <th>0</th>\n",
       "      <td>0</td>\n",
       "      <td>John</td>\n",
       "      <td>25</td>\n",
       "      <td>52500.0</td>\n",
       "      <td>Data Eng</td>\n",
       "      <td>5000.0</td>\n",
       "      <td>6</td>\n",
       "      <td>Expert</td>\n",
       "    </tr>\n",
       "    <tr>\n",
       "      <th>1</th>\n",
       "      <td>1</td>\n",
       "      <td>Alex</td>\n",
       "      <td>30</td>\n",
       "      <td>63000.0</td>\n",
       "      <td>Analytics</td>\n",
       "      <td>6000.0</td>\n",
       "      <td>3</td>\n",
       "      <td>Intermediate</td>\n",
       "    </tr>\n",
       "    <tr>\n",
       "      <th>2</th>\n",
       "      <td>2</td>\n",
       "      <td>Sara</td>\n",
       "      <td>22</td>\n",
       "      <td>47250.0</td>\n",
       "      <td>IT</td>\n",
       "      <td>4500.0</td>\n",
       "      <td>7</td>\n",
       "      <td>Expert</td>\n",
       "    </tr>\n",
       "    <tr>\n",
       "      <th>3</th>\n",
       "      <td>3</td>\n",
       "      <td>Emily</td>\n",
       "      <td>28</td>\n",
       "      <td>57750.0</td>\n",
       "      <td>HR</td>\n",
       "      <td>5500.0</td>\n",
       "      <td>4</td>\n",
       "      <td>Intermediate</td>\n",
       "    </tr>\n",
       "    <tr>\n",
       "      <th>4</th>\n",
       "      <td>4</td>\n",
       "      <td>Saint</td>\n",
       "      <td>35</td>\n",
       "      <td>73500.0</td>\n",
       "      <td>Finance</td>\n",
       "      <td>7000.0</td>\n",
       "      <td>6</td>\n",
       "      <td>Expert</td>\n",
       "    </tr>\n",
       "  </tbody>\n",
       "</table>\n",
       "</div>"
      ],
      "text/plain": [
       "   Unnamed: 0   Name  Age   Salary Department   Bonus  Experience  \\\n",
       "0           0   John   25  52500.0   Data Eng  5000.0           6   \n",
       "1           1   Alex   30  63000.0  Analytics  6000.0           3   \n",
       "2           2   Sara   22  47250.0         IT  4500.0           7   \n",
       "3           3  Emily   28  57750.0         HR  5500.0           4   \n",
       "4           4  Saint   35  73500.0    Finance  7000.0           6   \n",
       "\n",
       "  Experience_level  \n",
       "0           Expert  \n",
       "1     Intermediate  \n",
       "2           Expert  \n",
       "3     Intermediate  \n",
       "4           Expert  "
      ]
     },
     "execution_count": 24,
     "metadata": {},
     "output_type": "execute_result"
    }
   ],
   "source": [
    "df"
   ]
  },
  {
   "cell_type": "code",
   "execution_count": 25,
   "id": "6f53edf3-1b62-4b26-a573-468ce3c04fde",
   "metadata": {},
   "outputs": [
    {
     "name": "stdout",
     "output_type": "stream",
     "text": [
      "ETL process complete! Processed file saved\n"
     ]
    }
   ],
   "source": [
    "df.to_csv('processed_employee_data.csv', index=False)\n",
    "print('ETL process complete! Processed file saved')"
   ]
  },
  {
   "cell_type": "markdown",
   "id": "caafa55d-2b45-4efb-8528-5071cb8b97f0",
   "metadata": {},
   "source": [
    "#### Create a column Tax (10% of salary) and deduct it from the salary."
   ]
  },
  {
   "cell_type": "code",
   "execution_count": 26,
   "id": "13fe99fc-b432-4509-8e87-47be79e498c1",
   "metadata": {},
   "outputs": [
    {
     "data": {
      "text/html": [
       "<div>\n",
       "<style scoped>\n",
       "    .dataframe tbody tr th:only-of-type {\n",
       "        vertical-align: middle;\n",
       "    }\n",
       "\n",
       "    .dataframe tbody tr th {\n",
       "        vertical-align: top;\n",
       "    }\n",
       "\n",
       "    .dataframe thead th {\n",
       "        text-align: right;\n",
       "    }\n",
       "</style>\n",
       "<table border=\"1\" class=\"dataframe\">\n",
       "  <thead>\n",
       "    <tr style=\"text-align: right;\">\n",
       "      <th></th>\n",
       "      <th>Unnamed: 0</th>\n",
       "      <th>Name</th>\n",
       "      <th>Age</th>\n",
       "      <th>Salary</th>\n",
       "      <th>Department</th>\n",
       "      <th>Bonus</th>\n",
       "      <th>Experience</th>\n",
       "      <th>Experience_level</th>\n",
       "      <th>Tax</th>\n",
       "    </tr>\n",
       "  </thead>\n",
       "  <tbody>\n",
       "    <tr>\n",
       "      <th>0</th>\n",
       "      <td>0</td>\n",
       "      <td>John</td>\n",
       "      <td>25</td>\n",
       "      <td>52500.0</td>\n",
       "      <td>Data Eng</td>\n",
       "      <td>5000.0</td>\n",
       "      <td>6</td>\n",
       "      <td>Expert</td>\n",
       "      <td>5250.0</td>\n",
       "    </tr>\n",
       "    <tr>\n",
       "      <th>1</th>\n",
       "      <td>1</td>\n",
       "      <td>Alex</td>\n",
       "      <td>30</td>\n",
       "      <td>63000.0</td>\n",
       "      <td>Analytics</td>\n",
       "      <td>6000.0</td>\n",
       "      <td>3</td>\n",
       "      <td>Intermediate</td>\n",
       "      <td>6300.0</td>\n",
       "    </tr>\n",
       "    <tr>\n",
       "      <th>2</th>\n",
       "      <td>2</td>\n",
       "      <td>Sara</td>\n",
       "      <td>22</td>\n",
       "      <td>47250.0</td>\n",
       "      <td>IT</td>\n",
       "      <td>4500.0</td>\n",
       "      <td>7</td>\n",
       "      <td>Expert</td>\n",
       "      <td>4725.0</td>\n",
       "    </tr>\n",
       "    <tr>\n",
       "      <th>3</th>\n",
       "      <td>3</td>\n",
       "      <td>Emily</td>\n",
       "      <td>28</td>\n",
       "      <td>57750.0</td>\n",
       "      <td>HR</td>\n",
       "      <td>5500.0</td>\n",
       "      <td>4</td>\n",
       "      <td>Intermediate</td>\n",
       "      <td>5775.0</td>\n",
       "    </tr>\n",
       "    <tr>\n",
       "      <th>4</th>\n",
       "      <td>4</td>\n",
       "      <td>Saint</td>\n",
       "      <td>35</td>\n",
       "      <td>73500.0</td>\n",
       "      <td>Finance</td>\n",
       "      <td>7000.0</td>\n",
       "      <td>6</td>\n",
       "      <td>Expert</td>\n",
       "      <td>7350.0</td>\n",
       "    </tr>\n",
       "  </tbody>\n",
       "</table>\n",
       "</div>"
      ],
      "text/plain": [
       "   Unnamed: 0   Name  Age   Salary Department   Bonus  Experience  \\\n",
       "0           0   John   25  52500.0   Data Eng  5000.0           6   \n",
       "1           1   Alex   30  63000.0  Analytics  6000.0           3   \n",
       "2           2   Sara   22  47250.0         IT  4500.0           7   \n",
       "3           3  Emily   28  57750.0         HR  5500.0           4   \n",
       "4           4  Saint   35  73500.0    Finance  7000.0           6   \n",
       "\n",
       "  Experience_level     Tax  \n",
       "0           Expert  5250.0  \n",
       "1     Intermediate  6300.0  \n",
       "2           Expert  4725.0  \n",
       "3     Intermediate  5775.0  \n",
       "4           Expert  7350.0  "
      ]
     },
     "execution_count": 26,
     "metadata": {},
     "output_type": "execute_result"
    }
   ],
   "source": [
    "df['Tax'] = df['Salary'] * 0.10\n",
    "df"
   ]
  },
  {
   "cell_type": "code",
   "execution_count": 27,
   "id": "72ca811c-c29e-4b2a-94a8-686e7490e94d",
   "metadata": {},
   "outputs": [
    {
     "data": {
      "text/html": [
       "<div>\n",
       "<style scoped>\n",
       "    .dataframe tbody tr th:only-of-type {\n",
       "        vertical-align: middle;\n",
       "    }\n",
       "\n",
       "    .dataframe tbody tr th {\n",
       "        vertical-align: top;\n",
       "    }\n",
       "\n",
       "    .dataframe thead th {\n",
       "        text-align: right;\n",
       "    }\n",
       "</style>\n",
       "<table border=\"1\" class=\"dataframe\">\n",
       "  <thead>\n",
       "    <tr style=\"text-align: right;\">\n",
       "      <th></th>\n",
       "      <th>Unnamed: 0</th>\n",
       "      <th>Name</th>\n",
       "      <th>Age</th>\n",
       "      <th>Salary</th>\n",
       "      <th>Department</th>\n",
       "      <th>Bonus</th>\n",
       "      <th>Experience</th>\n",
       "      <th>Experience_level</th>\n",
       "      <th>Tax</th>\n",
       "      <th>Net Salary</th>\n",
       "    </tr>\n",
       "  </thead>\n",
       "  <tbody>\n",
       "    <tr>\n",
       "      <th>0</th>\n",
       "      <td>0</td>\n",
       "      <td>John</td>\n",
       "      <td>25</td>\n",
       "      <td>52500.0</td>\n",
       "      <td>Data Eng</td>\n",
       "      <td>5000.0</td>\n",
       "      <td>6</td>\n",
       "      <td>Expert</td>\n",
       "      <td>5250.0</td>\n",
       "      <td>47250.0</td>\n",
       "    </tr>\n",
       "    <tr>\n",
       "      <th>1</th>\n",
       "      <td>1</td>\n",
       "      <td>Alex</td>\n",
       "      <td>30</td>\n",
       "      <td>63000.0</td>\n",
       "      <td>Analytics</td>\n",
       "      <td>6000.0</td>\n",
       "      <td>3</td>\n",
       "      <td>Intermediate</td>\n",
       "      <td>6300.0</td>\n",
       "      <td>56700.0</td>\n",
       "    </tr>\n",
       "    <tr>\n",
       "      <th>2</th>\n",
       "      <td>2</td>\n",
       "      <td>Sara</td>\n",
       "      <td>22</td>\n",
       "      <td>47250.0</td>\n",
       "      <td>IT</td>\n",
       "      <td>4500.0</td>\n",
       "      <td>7</td>\n",
       "      <td>Expert</td>\n",
       "      <td>4725.0</td>\n",
       "      <td>42525.0</td>\n",
       "    </tr>\n",
       "    <tr>\n",
       "      <th>3</th>\n",
       "      <td>3</td>\n",
       "      <td>Emily</td>\n",
       "      <td>28</td>\n",
       "      <td>57750.0</td>\n",
       "      <td>HR</td>\n",
       "      <td>5500.0</td>\n",
       "      <td>4</td>\n",
       "      <td>Intermediate</td>\n",
       "      <td>5775.0</td>\n",
       "      <td>51975.0</td>\n",
       "    </tr>\n",
       "    <tr>\n",
       "      <th>4</th>\n",
       "      <td>4</td>\n",
       "      <td>Saint</td>\n",
       "      <td>35</td>\n",
       "      <td>73500.0</td>\n",
       "      <td>Finance</td>\n",
       "      <td>7000.0</td>\n",
       "      <td>6</td>\n",
       "      <td>Expert</td>\n",
       "      <td>7350.0</td>\n",
       "      <td>66150.0</td>\n",
       "    </tr>\n",
       "  </tbody>\n",
       "</table>\n",
       "</div>"
      ],
      "text/plain": [
       "   Unnamed: 0   Name  Age   Salary Department   Bonus  Experience  \\\n",
       "0           0   John   25  52500.0   Data Eng  5000.0           6   \n",
       "1           1   Alex   30  63000.0  Analytics  6000.0           3   \n",
       "2           2   Sara   22  47250.0         IT  4500.0           7   \n",
       "3           3  Emily   28  57750.0         HR  5500.0           4   \n",
       "4           4  Saint   35  73500.0    Finance  7000.0           6   \n",
       "\n",
       "  Experience_level     Tax  Net Salary  \n",
       "0           Expert  5250.0     47250.0  \n",
       "1     Intermediate  6300.0     56700.0  \n",
       "2           Expert  4725.0     42525.0  \n",
       "3     Intermediate  5775.0     51975.0  \n",
       "4           Expert  7350.0     66150.0  "
      ]
     },
     "execution_count": 27,
     "metadata": {},
     "output_type": "execute_result"
    }
   ],
   "source": [
    "df['Net Salary'] = df['Salary'] - df['Tax']\n",
    "df"
   ]
  },
  {
   "cell_type": "code",
   "execution_count": 28,
   "id": "d7004c95-b9cf-4758-8057-6dbbce623eb4",
   "metadata": {},
   "outputs": [
    {
     "name": "stdout",
     "output_type": "stream",
     "text": [
      "ETL process complete! Processed file saved\n"
     ]
    }
   ],
   "source": [
    "df.to_csv('processed_employee_data.csv', index=False)\n",
    "print('ETL process complete! Processed file saved')"
   ]
  },
  {
   "cell_type": "code",
   "execution_count": null,
   "id": "99e9b05f-3b5d-4e4a-8fc6-ae83aa83f0fc",
   "metadata": {},
   "outputs": [],
   "source": []
  }
 ],
 "metadata": {
  "kernelspec": {
   "display_name": "Python 3 (ipykernel)",
   "language": "python",
   "name": "python3"
  },
  "language_info": {
   "codemirror_mode": {
    "name": "ipython",
    "version": 3
   },
   "file_extension": ".py",
   "mimetype": "text/x-python",
   "name": "python",
   "nbconvert_exporter": "python",
   "pygments_lexer": "ipython3",
   "version": "3.13.2"
  }
 },
 "nbformat": 4,
 "nbformat_minor": 5
}
