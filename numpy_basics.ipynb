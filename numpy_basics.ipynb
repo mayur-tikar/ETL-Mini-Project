{
 "cells": [
  {
   "cell_type": "code",
   "execution_count": 1,
   "id": "77159f2e-1462-4f2d-a1f1-bbe12bd4e038",
   "metadata": {},
   "outputs": [],
   "source": [
    "import numpy as np"
   ]
  },
  {
   "cell_type": "markdown",
   "id": "25917ab1-10a5-4b3d-86c9-51cf184e58b8",
   "metadata": {},
   "source": [
    "# Creating numpy arrays"
   ]
  },
  {
   "cell_type": "code",
   "execution_count": 2,
   "id": "4860ba0d-ede7-4c1a-b565-ce4f453dd028",
   "metadata": {},
   "outputs": [
    {
     "name": "stdout",
     "output_type": "stream",
     "text": [
      "[1 2 3 4 5]\n"
     ]
    }
   ],
   "source": [
    "arr = np.array([1, 2, 3, 4, 5])\n",
    "print(arr)"
   ]
  },
  {
   "cell_type": "code",
   "execution_count": 3,
   "id": "61a9471b-9a54-4e10-972d-ab924d1c3e9e",
   "metadata": {},
   "outputs": [],
   "source": [
    "# Array Operations"
   ]
  },
  {
   "cell_type": "code",
   "execution_count": 4,
   "id": "73b03551-028f-424d-b7cb-5af3ccd2c0b2",
   "metadata": {},
   "outputs": [
    {
     "name": "stdout",
     "output_type": "stream",
     "text": [
      "Sum:  15\n"
     ]
    }
   ],
   "source": [
    "print(\"Sum: \", np.sum(arr))"
   ]
  },
  {
   "cell_type": "code",
   "execution_count": 5,
   "id": "ddd85943-3a51-4d2f-876a-accc1df05a44",
   "metadata": {},
   "outputs": [
    {
     "name": "stdout",
     "output_type": "stream",
     "text": [
      "Mean:  3.0\n"
     ]
    }
   ],
   "source": [
    "print(\"Mean: \", np.mean(arr))"
   ]
  },
  {
   "cell_type": "code",
   "execution_count": 6,
   "id": "7463c041-06f0-4a7d-803d-a4a9fdd21705",
   "metadata": {},
   "outputs": [
    {
     "name": "stdout",
     "output_type": "stream",
     "text": [
      "Max:  5\n"
     ]
    }
   ],
   "source": [
    "print(\"Max: \", np.max(arr))"
   ]
  },
  {
   "cell_type": "code",
   "execution_count": 7,
   "id": "fb415b18-a10b-4d8f-9687-1e3467b95bff",
   "metadata": {},
   "outputs": [
    {
     "name": "stdout",
     "output_type": "stream",
     "text": [
      "Element-wise squaring:  [ 1  4  9 16 25]\n"
     ]
    }
   ],
   "source": [
    "print(\"Element-wise squaring: \", arr ** 2)"
   ]
  },
  {
   "cell_type": "markdown",
   "id": "488da99d-99b4-414f-a441-4b9c87881898",
   "metadata": {},
   "source": [
    "# Multi-dimensional Arrays"
   ]
  },
  {
   "cell_type": "code",
   "execution_count": 8,
   "id": "87f9051f-861e-42d0-8565-03caafc7c7a1",
   "metadata": {},
   "outputs": [],
   "source": [
    "matrix = np.array([[1,2,3,4],[5,6,7,8]])"
   ]
  },
  {
   "cell_type": "code",
   "execution_count": 9,
   "id": "40a7337a-91ff-4f7e-a0c9-3e09339c701b",
   "metadata": {},
   "outputs": [
    {
     "name": "stdout",
     "output_type": "stream",
     "text": [
      "Matrix: \n",
      " [[1 2 3 4]\n",
      " [5 6 7 8]]\n"
     ]
    }
   ],
   "source": [
    "print(\"Matrix: \\n\", matrix)"
   ]
  },
  {
   "cell_type": "code",
   "execution_count": 10,
   "id": "400d8103-63c0-4e83-8567-58a5c74a468c",
   "metadata": {},
   "outputs": [
    {
     "name": "stdout",
     "output_type": "stream",
     "text": [
      "Shape:  (2, 4)\n"
     ]
    }
   ],
   "source": [
    "print(\"Shape: \", matrix.shape)"
   ]
  },
  {
   "cell_type": "code",
   "execution_count": 11,
   "id": "6a359a38-9df4-46d5-a5a7-01ad5811d289",
   "metadata": {},
   "outputs": [
    {
     "name": "stdout",
     "output_type": "stream",
     "text": [
      "Transpose:  [[1 5]\n",
      " [2 6]\n",
      " [3 7]\n",
      " [4 8]]\n"
     ]
    }
   ],
   "source": [
    "print(\"Transpose: \", matrix.T)"
   ]
  },
  {
   "cell_type": "code",
   "execution_count": null,
   "id": "35efa7b3-0626-4ed5-8244-9247e800cf3c",
   "metadata": {},
   "outputs": [],
   "source": []
  },
  {
   "cell_type": "markdown",
   "id": "6d5c6f9c-31ce-4a43-83db-9fb515fde83e",
   "metadata": {},
   "source": [
    "Create a NumPy array with numbers from 1 to 20."
   ]
  },
  {
   "cell_type": "code",
   "execution_count": 12,
   "id": "565ea1a0-04c1-4b18-8e75-7b26554e4709",
   "metadata": {},
   "outputs": [],
   "source": [
    "arr_num = np.array([1,2,3,4,5,6,7,8,9,10,11,12,13,14,15,16,17,18,19,20])"
   ]
  },
  {
   "cell_type": "markdown",
   "id": "8064f438-6a33-4f22-acc8-d4c5c0ecaa92",
   "metadata": {},
   "source": [
    "Find the mean, median, and standard deviation."
   ]
  },
  {
   "cell_type": "code",
   "execution_count": 13,
   "id": "776fbac3-5f92-46f6-a03c-0b18cb531e29",
   "metadata": {},
   "outputs": [
    {
     "name": "stdout",
     "output_type": "stream",
     "text": [
      "Mean:  10.5\n"
     ]
    }
   ],
   "source": [
    "print(\"Mean: \", arr_num.mean())"
   ]
  },
  {
   "cell_type": "code",
   "execution_count": 14,
   "id": "21fdd6c6-0b2b-4cf2-a0b4-d204a580254b",
   "metadata": {},
   "outputs": [
    {
     "name": "stdout",
     "output_type": "stream",
     "text": [
      "Mean:  10.5\n"
     ]
    }
   ],
   "source": [
    "print(\"Mean: \", np.mean(arr_num))"
   ]
  },
  {
   "cell_type": "code",
   "execution_count": 15,
   "id": "145b4054-b501-4d7d-9b49-36ddd840c398",
   "metadata": {},
   "outputs": [
    {
     "name": "stdout",
     "output_type": "stream",
     "text": [
      "Median:  10.5\n"
     ]
    }
   ],
   "source": [
    "print(\"Median: \", np.median(arr_num))"
   ]
  },
  {
   "cell_type": "code",
   "execution_count": 16,
   "id": "5889f799-bd1e-4bc4-810b-664c68c44fef",
   "metadata": {},
   "outputs": [
    {
     "name": "stdout",
     "output_type": "stream",
     "text": [
      "Standard Deviation:  5.766281297335398\n"
     ]
    }
   ],
   "source": [
    "print(\"Standard Deviation: \", np.std(arr_num))"
   ]
  },
  {
   "cell_type": "markdown",
   "id": "5990df59-d55f-4ed5-adce-2a7ea0d32616",
   "metadata": {},
   "source": [
    "Create a 3x3 matrix and calculate its transpose."
   ]
  },
  {
   "cell_type": "code",
   "execution_count": 17,
   "id": "412f0533-da5e-4dec-a28e-2f1f07e708ac",
   "metadata": {},
   "outputs": [],
   "source": [
    "arr_3 = np.array([[1,2,3],[4,5,6],[7,8,9]])"
   ]
  },
  {
   "cell_type": "code",
   "execution_count": 18,
   "id": "c8f8fdd0-e887-41bb-8b7e-6ee732f2bd63",
   "metadata": {},
   "outputs": [
    {
     "name": "stdout",
     "output_type": "stream",
     "text": [
      "Transpose:  [[1 4 7]\n",
      " [2 5 8]\n",
      " [3 6 9]]\n"
     ]
    }
   ],
   "source": [
    "print(\"Transpose: \", arr_3.T)"
   ]
  },
  {
   "cell_type": "code",
   "execution_count": null,
   "id": "7400778e-a8e5-4965-b749-34b5b32430c0",
   "metadata": {},
   "outputs": [],
   "source": []
  }
 ],
 "metadata": {
  "kernelspec": {
   "display_name": "Python 3 (ipykernel)",
   "language": "python",
   "name": "python3"
  },
  "language_info": {
   "codemirror_mode": {
    "name": "ipython",
    "version": 3
   },
   "file_extension": ".py",
   "mimetype": "text/x-python",
   "name": "python",
   "nbconvert_exporter": "python",
   "pygments_lexer": "ipython3",
   "version": "3.13.2"
  }
 },
 "nbformat": 4,
 "nbformat_minor": 5
}
