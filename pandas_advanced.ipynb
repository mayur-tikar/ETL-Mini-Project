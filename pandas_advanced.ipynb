{
 "cells": [
  {
   "cell_type": "markdown",
   "id": "45ff19e8-15d7-4830-9a48-189c5663b542",
   "metadata": {},
   "source": [
    "## Data Manipulation with pandas"
   ]
  },
  {
   "cell_type": "code",
   "execution_count": 1,
   "id": "cc1826c0-5b9d-43a2-b573-4a9149818f5f",
   "metadata": {},
   "outputs": [],
   "source": [
    "import pandas as pd"
   ]
  },
  {
   "cell_type": "code",
   "execution_count": 2,
   "id": "6fd1db01-3f0c-402e-acf0-d1d9ca7a7d45",
   "metadata": {},
   "outputs": [],
   "source": [
    "data = {\n",
    "    'Name': ['John', 'Alex', 'Sara', 'Emily', 'Saint'],\n",
    "    'Age': [25, 30, 22, 28, 35],\n",
    "    'Salary': [50000, 60000, 45000, 55000, 70000],\n",
    "    'Department': ['Data Eng', 'Analytics', 'IT', 'HR', 'Finance']\n",
    "}\n",
    "df = pd.DataFrame(data)"
   ]
  },
  {
   "cell_type": "code",
   "execution_count": 3,
   "id": "46b9c95e-9a5d-44a8-806f-0c8856003383",
   "metadata": {},
   "outputs": [
    {
     "name": "stdout",
     "output_type": "stream",
     "text": [
      "<class 'pandas.core.frame.DataFrame'>\n",
      "RangeIndex: 5 entries, 0 to 4\n",
      "Data columns (total 4 columns):\n",
      " #   Column      Non-Null Count  Dtype \n",
      "---  ------      --------------  ----- \n",
      " 0   Name        5 non-null      object\n",
      " 1   Age         5 non-null      int64 \n",
      " 2   Salary      5 non-null      int64 \n",
      " 3   Department  5 non-null      object\n",
      "dtypes: int64(2), object(2)\n",
      "memory usage: 292.0+ bytes\n"
     ]
    }
   ],
   "source": [
    "# Display basic info\n",
    "df.info()"
   ]
  },
  {
   "cell_type": "code",
   "execution_count": 4,
   "id": "3f04898c-30b6-495e-9528-c8acdeb07c03",
   "metadata": {},
   "outputs": [],
   "source": [
    "# Handling Missing values\n",
    "df.fillna('Unknown', inplace=True)"
   ]
  },
  {
   "cell_type": "code",
   "execution_count": 5,
   "id": "5051e059-d038-4c2a-a3d3-2368a4ea548b",
   "metadata": {},
   "outputs": [
    {
     "data": {
      "text/html": [
       "<div>\n",
       "<style scoped>\n",
       "    .dataframe tbody tr th:only-of-type {\n",
       "        vertical-align: middle;\n",
       "    }\n",
       "\n",
       "    .dataframe tbody tr th {\n",
       "        vertical-align: top;\n",
       "    }\n",
       "\n",
       "    .dataframe thead th {\n",
       "        text-align: right;\n",
       "    }\n",
       "</style>\n",
       "<table border=\"1\" class=\"dataframe\">\n",
       "  <thead>\n",
       "    <tr style=\"text-align: right;\">\n",
       "      <th></th>\n",
       "      <th>Name</th>\n",
       "      <th>Age</th>\n",
       "      <th>Salary</th>\n",
       "      <th>Department</th>\n",
       "    </tr>\n",
       "  </thead>\n",
       "  <tbody>\n",
       "    <tr>\n",
       "      <th>0</th>\n",
       "      <td>John</td>\n",
       "      <td>25</td>\n",
       "      <td>50000</td>\n",
       "      <td>Data Eng</td>\n",
       "    </tr>\n",
       "    <tr>\n",
       "      <th>1</th>\n",
       "      <td>Alex</td>\n",
       "      <td>30</td>\n",
       "      <td>60000</td>\n",
       "      <td>Analytics</td>\n",
       "    </tr>\n",
       "    <tr>\n",
       "      <th>2</th>\n",
       "      <td>Sara</td>\n",
       "      <td>22</td>\n",
       "      <td>45000</td>\n",
       "      <td>IT</td>\n",
       "    </tr>\n",
       "    <tr>\n",
       "      <th>3</th>\n",
       "      <td>Emily</td>\n",
       "      <td>28</td>\n",
       "      <td>55000</td>\n",
       "      <td>HR</td>\n",
       "    </tr>\n",
       "    <tr>\n",
       "      <th>4</th>\n",
       "      <td>Saint</td>\n",
       "      <td>35</td>\n",
       "      <td>70000</td>\n",
       "      <td>Finance</td>\n",
       "    </tr>\n",
       "  </tbody>\n",
       "</table>\n",
       "</div>"
      ],
      "text/plain": [
       "    Name  Age  Salary Department\n",
       "0   John   25   50000   Data Eng\n",
       "1   Alex   30   60000  Analytics\n",
       "2   Sara   22   45000         IT\n",
       "3  Emily   28   55000         HR\n",
       "4  Saint   35   70000    Finance"
      ]
     },
     "execution_count": 5,
     "metadata": {},
     "output_type": "execute_result"
    }
   ],
   "source": [
    "df.head()"
   ]
  },
  {
   "cell_type": "code",
   "execution_count": 6,
   "id": "2aa20136-1bab-4f5a-8316-b3bcc075318f",
   "metadata": {},
   "outputs": [],
   "source": [
    "# Sorting and Filtering\n",
    "high_salary = df[df['Salary'] > 50000].sort_values(by='Salary', ascending=False)"
   ]
  },
  {
   "cell_type": "code",
   "execution_count": 7,
   "id": "1620453b-52b6-4b3d-9b05-1c97881b36db",
   "metadata": {},
   "outputs": [
    {
     "name": "stdout",
     "output_type": "stream",
     "text": [
      "Employee with high salary: \n",
      "     Name  Age  Salary Department\n",
      "4  Saint   35   70000    Finance\n",
      "1   Alex   30   60000  Analytics\n",
      "3  Emily   28   55000         HR\n"
     ]
    }
   ],
   "source": [
    "print('Employee with high salary: \\n',high_salary)"
   ]
  },
  {
   "cell_type": "code",
   "execution_count": 8,
   "id": "12845ad5-0fcc-4cec-96e0-a52782a59994",
   "metadata": {},
   "outputs": [],
   "source": [
    "# Grouping and Aggregation\n",
    "avg_salary_per_dept = df.groupby(\"Department\")['Salary'].mean()"
   ]
  },
  {
   "cell_type": "code",
   "execution_count": 9,
   "id": "e7199e2e-a461-48db-a2cf-fa182dd3a8f3",
   "metadata": {},
   "outputs": [
    {
     "name": "stdout",
     "output_type": "stream",
     "text": [
      "Average salary per department:\n",
      " Department\n",
      "Analytics    60000.0\n",
      "Data Eng     50000.0\n",
      "Finance      70000.0\n",
      "HR           55000.0\n",
      "IT           45000.0\n",
      "Name: Salary, dtype: float64\n"
     ]
    }
   ],
   "source": [
    "print('Average salary per department:\\n', avg_salary_per_dept) "
   ]
  },
  {
   "cell_type": "code",
   "execution_count": 10,
   "id": "852ce97d-1165-4d83-97ca-a8e65abec49e",
   "metadata": {},
   "outputs": [
    {
     "name": "stdout",
     "output_type": "stream",
     "text": [
      "Updated DataFrane with Bonus: \n",
      "     Name  Age  Salary Department   Bonus\n",
      "0   John   25   50000   Data Eng  5000.0\n",
      "1   Alex   30   60000  Analytics  6000.0\n",
      "2   Sara   22   45000         IT  4500.0\n",
      "3  Emily   28   55000         HR  5500.0\n",
      "4  Saint   35   70000    Finance  7000.0\n"
     ]
    }
   ],
   "source": [
    "# Adding a new column\n",
    "df['Bonus'] = df['Salary'] * 0.10 # 10% Bonus Calculation\n",
    "print('Updated DataFrane with Bonus: \\n', df)"
   ]
  },
  {
   "cell_type": "code",
   "execution_count": 11,
   "id": "4f417cda-f990-452a-8c10-e0112aeee07e",
   "metadata": {},
   "outputs": [],
   "source": [
    "# Saving to CSV\n",
    "df.to_csv('employee_data1.csv', index=True)"
   ]
  },
  {
   "cell_type": "markdown",
   "id": "848a4777-4a7c-4442-bd8a-1b049f961554",
   "metadata": {},
   "source": [
    "### Add a new column for “Experience (Years)” with random values."
   ]
  },
  {
   "cell_type": "code",
   "execution_count": 12,
   "id": "b0004072-b459-44a6-a190-838cd6bc0500",
   "metadata": {},
   "outputs": [],
   "source": [
    "df['Experience'] = [2, 2, 1, 3, 4]"
   ]
  },
  {
   "cell_type": "code",
   "execution_count": 13,
   "id": "b0cc979e-4f09-4529-abbc-6e7330f4f0a2",
   "metadata": {},
   "outputs": [
    {
     "data": {
      "text/html": [
       "<div>\n",
       "<style scoped>\n",
       "    .dataframe tbody tr th:only-of-type {\n",
       "        vertical-align: middle;\n",
       "    }\n",
       "\n",
       "    .dataframe tbody tr th {\n",
       "        vertical-align: top;\n",
       "    }\n",
       "\n",
       "    .dataframe thead th {\n",
       "        text-align: right;\n",
       "    }\n",
       "</style>\n",
       "<table border=\"1\" class=\"dataframe\">\n",
       "  <thead>\n",
       "    <tr style=\"text-align: right;\">\n",
       "      <th></th>\n",
       "      <th>Name</th>\n",
       "      <th>Age</th>\n",
       "      <th>Salary</th>\n",
       "      <th>Department</th>\n",
       "      <th>Bonus</th>\n",
       "      <th>Experience (Years)</th>\n",
       "    </tr>\n",
       "  </thead>\n",
       "  <tbody>\n",
       "    <tr>\n",
       "      <th>0</th>\n",
       "      <td>John</td>\n",
       "      <td>25</td>\n",
       "      <td>50000</td>\n",
       "      <td>Data Eng</td>\n",
       "      <td>5000.0</td>\n",
       "      <td>2.0</td>\n",
       "    </tr>\n",
       "    <tr>\n",
       "      <th>1</th>\n",
       "      <td>Alex</td>\n",
       "      <td>30</td>\n",
       "      <td>60000</td>\n",
       "      <td>Analytics</td>\n",
       "      <td>6000.0</td>\n",
       "      <td>2.0</td>\n",
       "    </tr>\n",
       "    <tr>\n",
       "      <th>2</th>\n",
       "      <td>Sara</td>\n",
       "      <td>22</td>\n",
       "      <td>45000</td>\n",
       "      <td>IT</td>\n",
       "      <td>4500.0</td>\n",
       "      <td>1.0</td>\n",
       "    </tr>\n",
       "    <tr>\n",
       "      <th>3</th>\n",
       "      <td>Emily</td>\n",
       "      <td>28</td>\n",
       "      <td>55000</td>\n",
       "      <td>HR</td>\n",
       "      <td>5500.0</td>\n",
       "      <td>2.5</td>\n",
       "    </tr>\n",
       "    <tr>\n",
       "      <th>4</th>\n",
       "      <td>Saint</td>\n",
       "      <td>35</td>\n",
       "      <td>70000</td>\n",
       "      <td>Finance</td>\n",
       "      <td>7000.0</td>\n",
       "      <td>4.0</td>\n",
       "    </tr>\n",
       "  </tbody>\n",
       "</table>\n",
       "</div>"
      ],
      "text/plain": [
       "    Name  Age  Salary Department   Bonus  Experience (Years)\n",
       "0   John   25   50000   Data Eng  5000.0                 2.0\n",
       "1   Alex   30   60000  Analytics  6000.0                 2.0\n",
       "2   Sara   22   45000         IT  4500.0                 1.0\n",
       "3  Emily   28   55000         HR  5500.0                 2.5\n",
       "4  Saint   35   70000    Finance  7000.0                 4.0"
      ]
     },
     "execution_count": 13,
     "metadata": {},
     "output_type": "execute_result"
    }
   ],
   "source": [
    "df.head()"
   ]
  },
  {
   "cell_type": "markdown",
   "id": "b5d9f1ac-77ed-4ab1-ac09-cc15d5ac7a18",
   "metadata": {},
   "source": [
    "### Find the employee with the highest salary."
   ]
  },
  {
   "cell_type": "code",
   "execution_count": 18,
   "id": "f7256b39-6bad-4ab8-a1e8-e1e8c9491bd2",
   "metadata": {},
   "outputs": [
    {
     "name": "stdout",
     "output_type": "stream",
     "text": [
      "Highest Employee salary:\n",
      "     Name  Age  Salary Department\n",
      "4  Saint   35   70000    Finance\n",
      "1   Alex   30   60000  Analytics\n",
      "3  Emily   28   55000         HR\n"
     ]
    }
   ],
   "source": [
    "highest_salary = df['Salary'].max()\n",
    "print('Highest Employee salary:\\n',high_salary)"
   ]
  },
  {
   "cell_type": "code",
   "execution_count": 21,
   "id": "568ec696-8178-4690-afd8-be053fd2032c",
   "metadata": {},
   "outputs": [
    {
     "data": {
      "text/html": [
       "<div>\n",
       "<style scoped>\n",
       "    .dataframe tbody tr th:only-of-type {\n",
       "        vertical-align: middle;\n",
       "    }\n",
       "\n",
       "    .dataframe tbody tr th {\n",
       "        vertical-align: top;\n",
       "    }\n",
       "\n",
       "    .dataframe thead th {\n",
       "        text-align: right;\n",
       "    }\n",
       "</style>\n",
       "<table border=\"1\" class=\"dataframe\">\n",
       "  <thead>\n",
       "    <tr style=\"text-align: right;\">\n",
       "      <th></th>\n",
       "      <th>Name</th>\n",
       "      <th>Age</th>\n",
       "      <th>Salary</th>\n",
       "      <th>Department</th>\n",
       "    </tr>\n",
       "  </thead>\n",
       "  <tbody>\n",
       "    <tr>\n",
       "      <th>4</th>\n",
       "      <td>Saint</td>\n",
       "      <td>35</td>\n",
       "      <td>70000</td>\n",
       "      <td>Finance</td>\n",
       "    </tr>\n",
       "    <tr>\n",
       "      <th>1</th>\n",
       "      <td>Alex</td>\n",
       "      <td>30</td>\n",
       "      <td>60000</td>\n",
       "      <td>Analytics</td>\n",
       "    </tr>\n",
       "    <tr>\n",
       "      <th>3</th>\n",
       "      <td>Emily</td>\n",
       "      <td>28</td>\n",
       "      <td>55000</td>\n",
       "      <td>HR</td>\n",
       "    </tr>\n",
       "  </tbody>\n",
       "</table>\n",
       "</div>"
      ],
      "text/plain": [
       "    Name  Age  Salary Department\n",
       "4  Saint   35   70000    Finance\n",
       "1   Alex   30   60000  Analytics\n",
       "3  Emily   28   55000         HR"
      ]
     },
     "execution_count": 21,
     "metadata": {},
     "output_type": "execute_result"
    }
   ],
   "source": [
    "highest_sal_emp = df[df['Salary'] == df['Salary'].max()]\n",
    "high_salary"
   ]
  },
  {
   "cell_type": "code",
   "execution_count": null,
   "id": "93092385-d576-4c59-9eb4-e30d3758eaf6",
   "metadata": {},
   "outputs": [],
   "source": []
  },
  {
   "cell_type": "markdown",
   "id": "a18e77aa-220b-452a-9111-d818975ecce8",
   "metadata": {},
   "source": [
    "### Filter employees who are under 30 and earn above 50,000."
   ]
  },
  {
   "cell_type": "code",
   "execution_count": 15,
   "id": "6850e83c-1ee6-4e03-8894-cb511fcf238e",
   "metadata": {},
   "outputs": [],
   "source": [
    "young_skilled_employee = df.loc[(df['Age'] < 30) & (df['Salary'] >50000)]"
   ]
  },
  {
   "cell_type": "code",
   "execution_count": 23,
   "id": "aaebd711-0821-4525-a0c5-1ded58cabf9a",
   "metadata": {},
   "outputs": [
    {
     "data": {
      "text/html": [
       "<div>\n",
       "<style scoped>\n",
       "    .dataframe tbody tr th:only-of-type {\n",
       "        vertical-align: middle;\n",
       "    }\n",
       "\n",
       "    .dataframe tbody tr th {\n",
       "        vertical-align: top;\n",
       "    }\n",
       "\n",
       "    .dataframe thead th {\n",
       "        text-align: right;\n",
       "    }\n",
       "</style>\n",
       "<table border=\"1\" class=\"dataframe\">\n",
       "  <thead>\n",
       "    <tr style=\"text-align: right;\">\n",
       "      <th></th>\n",
       "      <th>Name</th>\n",
       "      <th>Age</th>\n",
       "      <th>Salary</th>\n",
       "      <th>Department</th>\n",
       "      <th>Bonus</th>\n",
       "      <th>Experience (Years)</th>\n",
       "    </tr>\n",
       "  </thead>\n",
       "  <tbody>\n",
       "    <tr>\n",
       "      <th>3</th>\n",
       "      <td>Emily</td>\n",
       "      <td>28</td>\n",
       "      <td>55000</td>\n",
       "      <td>HR</td>\n",
       "      <td>5500.0</td>\n",
       "      <td>2.5</td>\n",
       "    </tr>\n",
       "  </tbody>\n",
       "</table>\n",
       "</div>"
      ],
      "text/plain": [
       "    Name  Age  Salary Department   Bonus  Experience (Years)\n",
       "3  Emily   28   55000         HR  5500.0                 2.5"
      ]
     },
     "execution_count": 23,
     "metadata": {},
     "output_type": "execute_result"
    }
   ],
   "source": [
    "young_skilled_employee"
   ]
  },
  {
   "cell_type": "code",
   "execution_count": 25,
   "id": "29e161f3-6653-4742-a4de-77c7da44ecd8",
   "metadata": {},
   "outputs": [
    {
     "data": {
      "text/html": [
       "<div>\n",
       "<style scoped>\n",
       "    .dataframe tbody tr th:only-of-type {\n",
       "        vertical-align: middle;\n",
       "    }\n",
       "\n",
       "    .dataframe tbody tr th {\n",
       "        vertical-align: top;\n",
       "    }\n",
       "\n",
       "    .dataframe thead th {\n",
       "        text-align: right;\n",
       "    }\n",
       "</style>\n",
       "<table border=\"1\" class=\"dataframe\">\n",
       "  <thead>\n",
       "    <tr style=\"text-align: right;\">\n",
       "      <th></th>\n",
       "      <th>Name</th>\n",
       "      <th>Age</th>\n",
       "      <th>Salary</th>\n",
       "      <th>Department</th>\n",
       "      <th>Bonus</th>\n",
       "      <th>Experience (Years)</th>\n",
       "    </tr>\n",
       "  </thead>\n",
       "  <tbody>\n",
       "    <tr>\n",
       "      <th>3</th>\n",
       "      <td>Emily</td>\n",
       "      <td>28</td>\n",
       "      <td>55000</td>\n",
       "      <td>HR</td>\n",
       "      <td>5500.0</td>\n",
       "      <td>2.5</td>\n",
       "    </tr>\n",
       "  </tbody>\n",
       "</table>\n",
       "</div>"
      ],
      "text/plain": [
       "    Name  Age  Salary Department   Bonus  Experience (Years)\n",
       "3  Emily   28   55000         HR  5500.0                 2.5"
      ]
     },
     "execution_count": 25,
     "metadata": {},
     "output_type": "execute_result"
    }
   ],
   "source": [
    "young_high_earners = df[(df['Age'] < 30) & (df['Salary'] > 50000)]\n",
    "young_high_earners"
   ]
  },
  {
   "cell_type": "code",
   "execution_count": null,
   "id": "c69ac626-a57a-44e2-8c79-209fbf3b1579",
   "metadata": {},
   "outputs": [],
   "source": []
  }
 ],
 "metadata": {
  "kernelspec": {
   "display_name": "Python 3 (ipykernel)",
   "language": "python",
   "name": "python3"
  },
  "language_info": {
   "codemirror_mode": {
    "name": "ipython",
    "version": 3
   },
   "file_extension": ".py",
   "mimetype": "text/x-python",
   "name": "python",
   "nbconvert_exporter": "python",
   "pygments_lexer": "ipython3",
   "version": "3.13.2"
  }
 },
 "nbformat": 4,
 "nbformat_minor": 5
}
