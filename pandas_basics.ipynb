{
 "cells": [
  {
   "cell_type": "code",
   "execution_count": 1,
   "id": "589faa04-120d-476e-a6e2-19b26dfd5a6d",
   "metadata": {},
   "outputs": [],
   "source": [
    "import pandas as pd"
   ]
  },
  {
   "cell_type": "markdown",
   "id": "8d0674cc-025f-4f52-a45f-c1e1066d1461",
   "metadata": {},
   "source": [
    "Creating a DataFrame"
   ]
  },
  {
   "cell_type": "code",
   "execution_count": 3,
   "id": "eecaa4c8-0708-42c8-873e-463f55098d2d",
   "metadata": {},
   "outputs": [],
   "source": [
    "data = {\n",
    "    'Name': ['Alex', 'Sara', 'John'],\n",
    "    'Age': [25, 19, 33],\n",
    "    'Department': ['Data Engineer', 'Analytics', 'IT']\n",
    "}"
   ]
  },
  {
   "cell_type": "code",
   "execution_count": 4,
   "id": "8c1ecb03-1dc8-42b3-a507-63a4e045d890",
   "metadata": {},
   "outputs": [],
   "source": [
    "df = pd.DataFrame(data)"
   ]
  },
  {
   "cell_type": "markdown",
   "id": "5476267d-d1a1-4a04-84a7-c600fab17e50",
   "metadata": {},
   "source": [
    "Viewing Data"
   ]
  },
  {
   "cell_type": "code",
   "execution_count": 5,
   "id": "6ff80127-c445-40cc-aba8-45e5368f336e",
   "metadata": {},
   "outputs": [
    {
     "name": "stdout",
     "output_type": "stream",
     "text": [
      "   Name  Age     Department\n",
      "0  Alex   25  Data Engineer\n",
      "1  Sara   19      Analytics\n",
      "2  John   33             IT\n"
     ]
    }
   ],
   "source": [
    "print(df)"
   ]
  },
  {
   "cell_type": "code",
   "execution_count": 6,
   "id": "ce37cd31-ae19-4439-a0d1-278f70f238a9",
   "metadata": {},
   "outputs": [
    {
     "name": "stdout",
     "output_type": "stream",
     "text": [
      "First two rows: \n",
      "    Name  Age     Department\n",
      "0  Alex   25  Data Engineer\n",
      "1  Sara   19      Analytics\n"
     ]
    }
   ],
   "source": [
    "print('First two rows: \\n',df.head(2))"
   ]
  },
  {
   "cell_type": "markdown",
   "id": "3084fcc2-b560-4d0e-b538-6310be99e70a",
   "metadata": {},
   "source": [
    "DataFrame Operations"
   ]
  },
  {
   "cell_type": "code",
   "execution_count": 7,
   "id": "f1c42853-f528-4913-8129-09c20f5bc9f0",
   "metadata": {},
   "outputs": [
    {
     "name": "stdout",
     "output_type": "stream",
     "text": [
      "Average Age:  25.666666666666668\n"
     ]
    }
   ],
   "source": [
    "print('Average Age: ', df['Age'].mean())"
   ]
  },
  {
   "cell_type": "code",
   "execution_count": 8,
   "id": "5f383686-0d3f-413a-9a68-2095ac10e8e8",
   "metadata": {},
   "outputs": [
    {
     "name": "stdout",
     "output_type": "stream",
     "text": [
      "Updated DataFrame: \n",
      "    Name  Age     Department\n",
      "0  Alex   26  Data Engineer\n",
      "1  Sara   20      Analytics\n",
      "2  John   34             IT\n"
     ]
    }
   ],
   "source": [
    "df['Age'] = df['Age']+1 # Updating column\n",
    "print('Updated DataFrame: \\n', df)"
   ]
  },
  {
   "cell_type": "markdown",
   "id": "221096f4-290e-457c-be46-baf192ee521c",
   "metadata": {},
   "source": [
    "Filtering Data"
   ]
  },
  {
   "cell_type": "code",
   "execution_count": 10,
   "id": "43f0ba97-b1e2-411c-ac52-d141abfb5ff5",
   "metadata": {},
   "outputs": [
    {
     "name": "stdout",
     "output_type": "stream",
     "text": [
      "Young Employee: \n",
      "    Name  Age     Department\n",
      "0  Alex   26  Data Engineer\n",
      "1  Sara   20      Analytics\n"
     ]
    }
   ],
   "source": [
    "young_employees = df[df['Age'] < 28]\n",
    "print('Young Employee: \\n',young_employees)"
   ]
  },
  {
   "cell_type": "markdown",
   "id": "292043e3-bf75-45f4-b8ce-29e59395353c",
   "metadata": {},
   "source": [
    "### Create a DataFrame with at least 4 columns (like name, age, salary, and department) and 5 rows."
   ]
  },
  {
   "cell_type": "code",
   "execution_count": null,
   "id": "c7b0bb39-81fd-41b1-bdf0-f898f607b31f",
   "metadata": {},
   "outputs": [],
   "source": []
  },
  {
   "cell_type": "code",
   "execution_count": 11,
   "id": "9fbd0162-1f77-4a33-837d-6eb0894243fe",
   "metadata": {},
   "outputs": [],
   "source": [
    "data = {\n",
    "    'Name': ['Mani', 'Yash', 'Sid', 'Raj', 'Karan'],\n",
    "    'Age': [22, 24, 28, 26, 30],\n",
    "    'Salary': [12000, 28000, 14000, 5000, 30000],\n",
    "    'Department': ['IT', 'Analyst', 'IT', 'Clerk', 'Data Eng']\n",
    "}"
   ]
  },
  {
   "cell_type": "code",
   "execution_count": 12,
   "id": "9bf1d47b-c34d-4558-a878-bb3d712b267d",
   "metadata": {},
   "outputs": [],
   "source": [
    "df = pd.DataFrame(data)"
   ]
  },
  {
   "cell_type": "code",
   "execution_count": 13,
   "id": "87de4077-9fc4-405a-9fe0-615b6843d8ed",
   "metadata": {},
   "outputs": [
    {
     "data": {
      "text/html": [
       "<div>\n",
       "<style scoped>\n",
       "    .dataframe tbody tr th:only-of-type {\n",
       "        vertical-align: middle;\n",
       "    }\n",
       "\n",
       "    .dataframe tbody tr th {\n",
       "        vertical-align: top;\n",
       "    }\n",
       "\n",
       "    .dataframe thead th {\n",
       "        text-align: right;\n",
       "    }\n",
       "</style>\n",
       "<table border=\"1\" class=\"dataframe\">\n",
       "  <thead>\n",
       "    <tr style=\"text-align: right;\">\n",
       "      <th></th>\n",
       "      <th>Name</th>\n",
       "      <th>Age</th>\n",
       "      <th>Salary</th>\n",
       "      <th>Department</th>\n",
       "    </tr>\n",
       "  </thead>\n",
       "  <tbody>\n",
       "    <tr>\n",
       "      <th>0</th>\n",
       "      <td>Mani</td>\n",
       "      <td>22</td>\n",
       "      <td>12000</td>\n",
       "      <td>IT</td>\n",
       "    </tr>\n",
       "    <tr>\n",
       "      <th>1</th>\n",
       "      <td>Yash</td>\n",
       "      <td>24</td>\n",
       "      <td>28000</td>\n",
       "      <td>Analyst</td>\n",
       "    </tr>\n",
       "    <tr>\n",
       "      <th>2</th>\n",
       "      <td>Sid</td>\n",
       "      <td>28</td>\n",
       "      <td>14000</td>\n",
       "      <td>IT</td>\n",
       "    </tr>\n",
       "    <tr>\n",
       "      <th>3</th>\n",
       "      <td>Raj</td>\n",
       "      <td>26</td>\n",
       "      <td>5000</td>\n",
       "      <td>Clerk</td>\n",
       "    </tr>\n",
       "    <tr>\n",
       "      <th>4</th>\n",
       "      <td>Karan</td>\n",
       "      <td>30</td>\n",
       "      <td>30000</td>\n",
       "      <td>Data Eng</td>\n",
       "    </tr>\n",
       "  </tbody>\n",
       "</table>\n",
       "</div>"
      ],
      "text/plain": [
       "    Name  Age  Salary Department\n",
       "0   Mani   22   12000         IT\n",
       "1   Yash   24   28000    Analyst\n",
       "2    Sid   28   14000         IT\n",
       "3    Raj   26    5000      Clerk\n",
       "4  Karan   30   30000   Data Eng"
      ]
     },
     "execution_count": 13,
     "metadata": {},
     "output_type": "execute_result"
    }
   ],
   "source": [
    "df.head()"
   ]
  },
  {
   "cell_type": "markdown",
   "id": "433263a1-a482-4be8-9969-91ef07366f4d",
   "metadata": {},
   "source": [
    "### Add a new column called Bonus with random values."
   ]
  },
  {
   "cell_type": "code",
   "execution_count": 14,
   "id": "026ef10f-7649-4643-b5ed-79f7450ac7fc",
   "metadata": {},
   "outputs": [],
   "source": [
    "df['Bonus'] = [15, 12, 10, 5, 20]"
   ]
  },
  {
   "cell_type": "code",
   "execution_count": 15,
   "id": "c4bac73f-ffc8-466e-a8e6-d17a3e58bfb4",
   "metadata": {},
   "outputs": [
    {
     "data": {
      "text/html": [
       "<div>\n",
       "<style scoped>\n",
       "    .dataframe tbody tr th:only-of-type {\n",
       "        vertical-align: middle;\n",
       "    }\n",
       "\n",
       "    .dataframe tbody tr th {\n",
       "        vertical-align: top;\n",
       "    }\n",
       "\n",
       "    .dataframe thead th {\n",
       "        text-align: right;\n",
       "    }\n",
       "</style>\n",
       "<table border=\"1\" class=\"dataframe\">\n",
       "  <thead>\n",
       "    <tr style=\"text-align: right;\">\n",
       "      <th></th>\n",
       "      <th>Name</th>\n",
       "      <th>Age</th>\n",
       "      <th>Salary</th>\n",
       "      <th>Department</th>\n",
       "      <th>Bonus</th>\n",
       "    </tr>\n",
       "  </thead>\n",
       "  <tbody>\n",
       "    <tr>\n",
       "      <th>0</th>\n",
       "      <td>Mani</td>\n",
       "      <td>22</td>\n",
       "      <td>12000</td>\n",
       "      <td>IT</td>\n",
       "      <td>15</td>\n",
       "    </tr>\n",
       "    <tr>\n",
       "      <th>1</th>\n",
       "      <td>Yash</td>\n",
       "      <td>24</td>\n",
       "      <td>28000</td>\n",
       "      <td>Analyst</td>\n",
       "      <td>12</td>\n",
       "    </tr>\n",
       "    <tr>\n",
       "      <th>2</th>\n",
       "      <td>Sid</td>\n",
       "      <td>28</td>\n",
       "      <td>14000</td>\n",
       "      <td>IT</td>\n",
       "      <td>10</td>\n",
       "    </tr>\n",
       "    <tr>\n",
       "      <th>3</th>\n",
       "      <td>Raj</td>\n",
       "      <td>26</td>\n",
       "      <td>5000</td>\n",
       "      <td>Clerk</td>\n",
       "      <td>5</td>\n",
       "    </tr>\n",
       "    <tr>\n",
       "      <th>4</th>\n",
       "      <td>Karan</td>\n",
       "      <td>30</td>\n",
       "      <td>30000</td>\n",
       "      <td>Data Eng</td>\n",
       "      <td>20</td>\n",
       "    </tr>\n",
       "  </tbody>\n",
       "</table>\n",
       "</div>"
      ],
      "text/plain": [
       "    Name  Age  Salary Department  Bonus\n",
       "0   Mani   22   12000         IT     15\n",
       "1   Yash   24   28000    Analyst     12\n",
       "2    Sid   28   14000         IT     10\n",
       "3    Raj   26    5000      Clerk      5\n",
       "4  Karan   30   30000   Data Eng     20"
      ]
     },
     "execution_count": 15,
     "metadata": {},
     "output_type": "execute_result"
    }
   ],
   "source": [
    "df.head()"
   ]
  },
  {
   "cell_type": "markdown",
   "id": "f8ed417d-722a-495d-88aa-529fefdfa013",
   "metadata": {},
   "source": [
    "### Filter out employees with a salary above a certain threshold."
   ]
  },
  {
   "cell_type": "code",
   "execution_count": 16,
   "id": "e247b50f-1074-47db-9230-58de9e5d92c7",
   "metadata": {},
   "outputs": [
    {
     "data": {
      "text/plain": [
       "np.float64(17800.0)"
      ]
     },
     "execution_count": 16,
     "metadata": {},
     "output_type": "execute_result"
    }
   ],
   "source": [
    "df['Salary'].mean()"
   ]
  },
  {
   "cell_type": "code",
   "execution_count": 18,
   "id": "db039266-77df-458d-a6be-d3030cfaa8c3",
   "metadata": {},
   "outputs": [
    {
     "name": "stdout",
     "output_type": "stream",
     "text": [
      "Employee's salary below average: \n",
      "    Name  Age  Salary Department  Bonus\n",
      "0  Mani   22   12000         IT     15\n",
      "2   Sid   28   14000         IT     10\n",
      "3   Raj   26    5000      Clerk      5\n"
     ]
    }
   ],
   "source": [
    "print(\"Employee's salary below average: \\n\", df[df['Salary'] < 17800])"
   ]
  },
  {
   "cell_type": "code",
   "execution_count": 19,
   "id": "13fd70dc-0e36-4426-a3c3-31dfcba198c0",
   "metadata": {},
   "outputs": [],
   "source": [
    "### Save your DataFrame to a CSV file using df.to_csv('output.csv', index=False)."
   ]
  },
  {
   "cell_type": "code",
   "execution_count": 20,
   "id": "5195e28f-42bd-48e3-942c-181379bbbaf2",
   "metadata": {},
   "outputs": [],
   "source": [
    "df.to_csv('output.csv', index=False)"
   ]
  },
  {
   "cell_type": "code",
   "execution_count": null,
   "id": "dc044d4e-f575-4467-8a91-f348df940442",
   "metadata": {},
   "outputs": [],
   "source": []
  },
  {
   "cell_type": "code",
   "execution_count": null,
   "id": "0494f8d8-4cf9-4548-90a9-b7f99c042a7b",
   "metadata": {},
   "outputs": [],
   "source": []
  },
  {
   "cell_type": "code",
   "execution_count": null,
   "id": "1c93de10-e1b9-48ab-b77e-6695f90c4321",
   "metadata": {},
   "outputs": [],
   "source": []
  }
 ],
 "metadata": {
  "kernelspec": {
   "display_name": "Python 3 (ipykernel)",
   "language": "python",
   "name": "python3"
  },
  "language_info": {
   "codemirror_mode": {
    "name": "ipython",
    "version": 3
   },
   "file_extension": ".py",
   "mimetype": "text/x-python",
   "name": "python",
   "nbconvert_exporter": "python",
   "pygments_lexer": "ipython3",
   "version": "3.13.2"
  }
 },
 "nbformat": 4,
 "nbformat_minor": 5
}
